{
  "nbformat": 4,
  "nbformat_minor": 0,
  "metadata": {
    "colab": {
      "name": "sqlite-MTA-count-markdown.ipynb",
      "provenance": [],
      "authorship_tag": "ABX9TyMhhFxTyQaOc+OUDZHp257C",
      "include_colab_link": true
    },
    "kernelspec": {
      "name": "python3",
      "display_name": "Python 3"
    }
  },
  "cells": [
    {
      "cell_type": "markdown",
      "metadata": {
        "id": "view-in-github",
        "colab_type": "text"
      },
      "source": [
        "<a href=\"https://colab.research.google.com/github/tewei0328/database/blob/main/sqlite_MTA_count_markdown.ipynb\" target=\"_parent\"><img src=\"https://colab.research.google.com/assets/colab-badge.svg\" alt=\"Open In Colab\"/></a>"
      ]
    },
    {
      "cell_type": "markdown",
      "metadata": {
        "id": "5ObDppBA82oZ"
      },
      "source": [
        "處理資料（45題）\n",
        "\n",
        "1.Product資料表包含下列資料。\n",
        "\n",
        "ID | Name | Quantity\n",
        "----|:-------|:---------:\n",
        "1234|Spoon|33\n",
        "2615|Fork|17\n",
        "3781|Plate|20\n",
        "4598|Cup|51\n",
        "\n",
        "\n",
        "```\n",
        "您執行下列陳述式： COUNT:個數\n",
        "SELECT COUNT(*)\n",
        "FROM Product WHERE Quantity>18\n",
        "此陳述式傳回的值是什麼？\n",
        "(A)1\n",
        "(B)2\n",
        "(C)3\n",
        "(D)4\n",
        "```\n",
        "\n",
        "\n"
      ]
    },
    {
      "cell_type": "code",
      "metadata": {
        "id": "UtP45XR9RV9J"
      },
      "source": [
        "import sqlite3\n",
        "conn=sqlite3.connect('aaa.db')\n",
        "c=conn.cursor()"
      ],
      "execution_count": null,
      "outputs": []
    },
    {
      "cell_type": "code",
      "metadata": {
        "id": "8lxcEeq5Rzsc",
        "outputId": "3bb11706-1f67-45bf-a9c3-0db0533b1bb0",
        "colab": {
          "base_uri": "https://localhost:8080/",
          "height": 35
        }
      },
      "source": [
        "c.execute(\"\"\"CREATE TABLE Product(\n",
        "  ID integer,\n",
        "  Name text,\n",
        "  Quantity integer\n",
        "  )\"\"\")"
      ],
      "execution_count": null,
      "outputs": [
        {
          "output_type": "execute_result",
          "data": {
            "text/plain": [
              "<sqlite3.Cursor at 0x7fafe6b59ce0>"
            ]
          },
          "metadata": {
            "tags": []
          },
          "execution_count": 4
        }
      ]
    },
    {
      "cell_type": "code",
      "metadata": {
        "id": "MLStDOGhRzvI",
        "outputId": "4a8951e0-b0b1-40fb-b338-6c835a214afa",
        "colab": {
          "base_uri": "https://localhost:8080/",
          "height": 35
        }
      },
      "source": [
        "c.execute(\"INSERT INTO Product values(1234, 'Spoon', 33)\")\n",
        "c.execute(\"INSERT INTO Product values(2615, 'Fork', 17)\")\n",
        "c.execute(\"INSERT INTO Product values(3781, 'Plate', 20)\")\n",
        "c.execute(\"INSERT INTO Product values(4598, 'Cup', 51)\")"
      ],
      "execution_count": null,
      "outputs": [
        {
          "output_type": "execute_result",
          "data": {
            "text/plain": [
              "<sqlite3.Cursor at 0x7fafe6b59ce0>"
            ]
          },
          "metadata": {
            "tags": []
          },
          "execution_count": 6
        }
      ]
    },
    {
      "cell_type": "code",
      "metadata": {
        "id": "TeDsLKvrRzxP",
        "outputId": "298936fe-4645-4e51-c3e9-ab860b9242e4",
        "colab": {
          "base_uri": "https://localhost:8080/",
          "height": 35
        }
      },
      "source": [
        "c.execute(\"SELECT * FROM Product\")"
      ],
      "execution_count": null,
      "outputs": [
        {
          "output_type": "execute_result",
          "data": {
            "text/plain": [
              "<sqlite3.Cursor at 0x7fafe6b59ce0>"
            ]
          },
          "metadata": {
            "tags": []
          },
          "execution_count": 7
        }
      ]
    },
    {
      "cell_type": "code",
      "metadata": {
        "id": "CsDiJvmERzzr",
        "outputId": "d725dbc6-34e3-4eab-db56-7ec6d0415f47",
        "colab": {
          "base_uri": "https://localhost:8080/",
          "height": 87
        }
      },
      "source": [
        "c.fetchall()"
      ],
      "execution_count": null,
      "outputs": [
        {
          "output_type": "execute_result",
          "data": {
            "text/plain": [
              "[(1234, 'Spoon', 33),\n",
              " (2615, 'Fork', 17),\n",
              " (3781, 'Plate', 20),\n",
              " (4598, 'Cup', 51)]"
            ]
          },
          "metadata": {
            "tags": []
          },
          "execution_count": 8
        }
      ]
    },
    {
      "cell_type": "code",
      "metadata": {
        "id": "9Mlt-6ac_CCH",
        "outputId": "df7e1d3b-7e69-4dbb-f2b7-520698e7d298",
        "colab": {
          "base_uri": "https://localhost:8080/",
          "height": 35
        }
      },
      "source": [
        "c.execute(\"SELECT count(*) FROM Product\")"
      ],
      "execution_count": null,
      "outputs": [
        {
          "output_type": "execute_result",
          "data": {
            "text/plain": [
              "<sqlite3.Cursor at 0x7fafe6b59ce0>"
            ]
          },
          "metadata": {
            "tags": []
          },
          "execution_count": 9
        }
      ]
    },
    {
      "cell_type": "code",
      "metadata": {
        "id": "MhE2GOvZ_Lbf",
        "outputId": "a2da5149-5f6e-4585-f37c-fc4deb948abb",
        "colab": {
          "base_uri": "https://localhost:8080/",
          "height": 35
        }
      },
      "source": [
        "c.fetchall()"
      ],
      "execution_count": null,
      "outputs": [
        {
          "output_type": "execute_result",
          "data": {
            "text/plain": [
              "[(4,)]"
            ]
          },
          "metadata": {
            "tags": []
          },
          "execution_count": 10
        }
      ]
    },
    {
      "cell_type": "code",
      "metadata": {
        "id": "0a_IX2bL_b_R",
        "outputId": "ee8840d7-61b6-4706-c359-ff4b1c9ffec4",
        "colab": {
          "base_uri": "https://localhost:8080/",
          "height": 35
        }
      },
      "source": [
        "c.execute(\"SELECT count(*) FROM Product where Quantity>18\")"
      ],
      "execution_count": null,
      "outputs": [
        {
          "output_type": "execute_result",
          "data": {
            "text/plain": [
              "<sqlite3.Cursor at 0x7fafe6b59ce0>"
            ]
          },
          "metadata": {
            "tags": []
          },
          "execution_count": 11
        }
      ]
    },
    {
      "cell_type": "code",
      "metadata": {
        "id": "YyETD4Rb_b_i",
        "outputId": "c75bb8a8-c1fe-44b9-892a-30742e0eaf35",
        "colab": {
          "base_uri": "https://localhost:8080/",
          "height": 35
        }
      },
      "source": [
        "c.fetchall()"
      ],
      "execution_count": null,
      "outputs": [
        {
          "output_type": "execute_result",
          "data": {
            "text/plain": [
              "[(3,)]"
            ]
          },
          "metadata": {
            "tags": []
          },
          "execution_count": 12
        }
      ]
    }
  ]
}