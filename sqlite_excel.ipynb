{
  "nbformat": 4,
  "nbformat_minor": 0,
  "metadata": {
    "colab": {
      "name": "sqlite_excel.ipynb",
      "provenance": [],
      "authorship_tag": "ABX9TyNNCzJUsdXZZyUuBVBHinUz",
      "include_colab_link": true
    },
    "kernelspec": {
      "name": "python3",
      "display_name": "Python 3"
    }
  },
  "cells": [
    {
      "cell_type": "markdown",
      "metadata": {
        "id": "view-in-github",
        "colab_type": "text"
      },
      "source": [
        "<a href=\"https://colab.research.google.com/github/tewei0328/database/blob/main/sqlite_excel.ipynb\" target=\"_parent\"><img src=\"https://colab.research.google.com/assets/colab-badge.svg\" alt=\"Open In Colab\"/></a>"
      ]
    },
    {
      "cell_type": "code",
      "metadata": {
        "id": "aSImj09989YL"
      },
      "source": [
        "import sqlite3\n",
        "conn=sqlite3.connect('aaa.db')\n",
        "c=conn.cursor()\n"
      ],
      "execution_count": null,
      "outputs": []
    },
    {
      "cell_type": "code",
      "metadata": {
        "id": "4Ourc7i89MGP",
        "outputId": "91874f2e-0f54-4181-9693-23956891906c",
        "colab": {
          "base_uri": "https://localhost:8080/"
        }
      },
      "source": [
        "c.execute(\"\"\"CREATE TABLE Product(\n",
        "  ID integer,\n",
        "  Name text,\n",
        "  Quantity integer\n",
        "  )\"\"\")\n"
      ],
      "execution_count": null,
      "outputs": [
        {
          "output_type": "execute_result",
          "data": {
            "text/plain": [
              "<sqlite3.Cursor at 0x7f313dd31ea0>"
            ]
          },
          "metadata": {
            "tags": []
          },
          "execution_count": 2
        }
      ]
    },
    {
      "cell_type": "code",
      "metadata": {
        "id": "BfVDaq7f9MKl",
        "outputId": "ffce8938-64b0-4444-e2cc-650028243e96",
        "colab": {
          "base_uri": "https://localhost:8080/"
        }
      },
      "source": [
        "c.execute(\"INSERT INTO Product values(1234, 'Spoon', 33)\")\n",
        "c.execute(\"INSERT INTO Product values(2615, 'Fork', 17)\")\n",
        "c.execute(\"INSERT INTO Product values(3781, 'Plate', 20)\")\n",
        "c.execute(\"INSERT INTO Product values(4598, 'Cup', 51)\")\n"
      ],
      "execution_count": null,
      "outputs": [
        {
          "output_type": "execute_result",
          "data": {
            "text/plain": [
              "<sqlite3.Cursor at 0x7f313dd31ea0>"
            ]
          },
          "metadata": {
            "tags": []
          },
          "execution_count": 3
        }
      ]
    },
    {
      "cell_type": "code",
      "metadata": {
        "id": "-lCkppVL9MP9",
        "outputId": "b458f88c-8453-4d83-d5a8-45fbe25a0e5c",
        "colab": {
          "base_uri": "https://localhost:8080/"
        }
      },
      "source": [
        "c.execute(\"SELECT * FROM Product\")\n",
        "c.fetchall()\n"
      ],
      "execution_count": null,
      "outputs": [
        {
          "output_type": "execute_result",
          "data": {
            "text/plain": [
              "[(1234, 'Spoon', 33),\n",
              " (2615, 'Fork', 17),\n",
              " (3781, 'Plate', 20),\n",
              " (4598, 'Cup', 51)]"
            ]
          },
          "metadata": {
            "tags": []
          },
          "execution_count": 4
        }
      ]
    },
    {
      "cell_type": "code",
      "metadata": {
        "id": "PUZYEcvQ9MUt",
        "outputId": "86c37560-1ca1-438a-9b76-09c5e68bc32b",
        "colab": {
          "base_uri": "https://localhost:8080/"
        }
      },
      "source": [
        "c.execute(\"SELECT count(*) FROM Product where Quantity>18\")\n",
        "c.fetchall()\n"
      ],
      "execution_count": null,
      "outputs": [
        {
          "output_type": "execute_result",
          "data": {
            "text/plain": [
              "[(3,)]"
            ]
          },
          "metadata": {
            "tags": []
          },
          "execution_count": 6
        }
      ]
    },
    {
      "cell_type": "code",
      "metadata": {
        "id": "uReMNo3QAiaA",
        "outputId": "b55021b4-48b6-4dc1-fec3-fc38bdb806f7",
        "colab": {
          "base_uri": "https://localhost:8080/"
        }
      },
      "source": [
        "!pip install xlsxwriter"
      ],
      "execution_count": null,
      "outputs": [
        {
          "output_type": "stream",
          "text": [
            "Collecting xlsxwriter\n",
            "\u001b[?25l  Downloading https://files.pythonhosted.org/packages/6b/41/bf1aae04932d1eaffee1fc5f8b38ca47bbbf07d765129539bc4bcce1ce0c/XlsxWriter-1.3.7-py2.py3-none-any.whl (144kB)\n",
            "\r\u001b[K     |██▎                             | 10kB 18.4MB/s eta 0:00:01\r\u001b[K     |████▌                           | 20kB 1.7MB/s eta 0:00:01\r\u001b[K     |██████▉                         | 30kB 2.3MB/s eta 0:00:01\r\u001b[K     |█████████                       | 40kB 2.5MB/s eta 0:00:01\r\u001b[K     |███████████▎                    | 51kB 2.0MB/s eta 0:00:01\r\u001b[K     |█████████████▋                  | 61kB 2.3MB/s eta 0:00:01\r\u001b[K     |███████████████▉                | 71kB 2.5MB/s eta 0:00:01\r\u001b[K     |██████████████████▏             | 81kB 2.7MB/s eta 0:00:01\r\u001b[K     |████████████████████▍           | 92kB 2.9MB/s eta 0:00:01\r\u001b[K     |██████████████████████▋         | 102kB 2.8MB/s eta 0:00:01\r\u001b[K     |█████████████████████████       | 112kB 2.8MB/s eta 0:00:01\r\u001b[K     |███████████████████████████▏    | 122kB 2.8MB/s eta 0:00:01\r\u001b[K     |█████████████████████████████▌  | 133kB 2.8MB/s eta 0:00:01\r\u001b[K     |███████████████████████████████▊| 143kB 2.8MB/s eta 0:00:01\r\u001b[K     |████████████████████████████████| 153kB 2.8MB/s \n",
            "\u001b[?25hInstalling collected packages: xlsxwriter\n",
            "Successfully installed xlsxwriter-1.3.7\n"
          ],
          "name": "stdout"
        }
      ]
    },
    {
      "cell_type": "code",
      "metadata": {
        "id": "qoha8q2i9MYl",
        "outputId": "1667d27f-8f1e-4933-d19e-5c198f0f7d48",
        "colab": {
          "base_uri": "https://localhost:8080/"
        }
      },
      "source": [
        "from xlsxwriter.workbook import Workbook\n",
        "workbook = Workbook('bbb.xlsx')\n",
        "worksheet = workbook.add_worksheet()\n",
        "\n",
        "#conn=sqlite3.connect('test.sqlite')\n",
        "#c=conn.cursor()\n",
        "#c.execute(\"select * from abc\")\n",
        "#mysel=c.execute(\"select * from abc \")\n",
        "\n",
        "mysel=c.execute(\"SELECT * FROM Product\")\n",
        "#c.fetchall()\n",
        "\n",
        "for row in mysel:\n",
        " print(row)\n",
        " worksheet.write(0, 0, row[0])\n",
        "workbook.close()"
      ],
      "execution_count": null,
      "outputs": [
        {
          "output_type": "stream",
          "text": [
            "(1234, 'Spoon', 33)\n",
            "(2615, 'Fork', 17)\n",
            "(3781, 'Plate', 20)\n",
            "(4598, 'Cup', 51)\n"
          ],
          "name": "stdout"
        }
      ]
    }
  ]
}