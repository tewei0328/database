{
  "nbformat": 4,
  "nbformat_minor": 0,
  "metadata": {
    "colab": {
      "name": "sqlite3.ipynb",
      "provenance": [],
      "authorship_tag": "ABX9TyO7e0AMJAhlfzpFoT3yyXmk",
      "include_colab_link": true
    },
    "kernelspec": {
      "name": "python3",
      "display_name": "Python 3"
    }
  },
  "cells": [
    {
      "cell_type": "markdown",
      "metadata": {
        "id": "view-in-github",
        "colab_type": "text"
      },
      "source": [
        "<a href=\"https://colab.research.google.com/github/tewei0328/database/blob/main/sqlite3.ipynb\" target=\"_parent\"><img src=\"https://colab.research.google.com/assets/colab-badge.svg\" alt=\"Open In Colab\"/></a>"
      ]
    },
    {
      "cell_type": "markdown",
      "metadata": {
        "id": "FD5CQPFbpI9s"
      },
      "source": [
        "# Sqlite 3 Python Tutorial in 5 minutes - Creating Database, Tables and Querying [2020]\n",
        "https://youtu.be/girsuXz0yA8"
      ]
    },
    {
      "cell_type": "markdown",
      "metadata": {
        "id": "Cfm0iW4B1fk-"
      },
      "source": [
        "# sqlite3 --- SQLite 数据库 DB-API 2.0 接口模块\n",
        "https://docs.python.org/zh-tw/3/library/sqlite3.html"
      ]
    },
    {
      "cell_type": "code",
      "metadata": {
        "id": "mH2X8v6AnkM-"
      },
      "source": [
        "import sqlite3"
      ],
      "execution_count": null,
      "outputs": []
    },
    {
      "cell_type": "code",
      "metadata": {
        "id": "3gawpZMRnop7"
      },
      "source": [
        "connection = sqlite3.connect('aaa.db')"
      ],
      "execution_count": null,
      "outputs": []
    },
    {
      "cell_type": "code",
      "metadata": {
        "id": "Y8qABT2Qo2y2"
      },
      "source": [
        "c=connection.cursor()"
      ],
      "execution_count": null,
      "outputs": []
    },
    {
      "cell_type": "code",
      "metadata": {
        "id": "ryHpcULupUM7",
        "outputId": "b43da02e-c5e4-49ef-ec51-f452bdfa5b54",
        "colab": {
          "base_uri": "https://localhost:8080/"
        }
      },
      "source": [
        "c.execute('''CREATE TABLE stocks\n",
        "             (date text, trans text, symbol text, qty real, price real)''')"
      ],
      "execution_count": null,
      "outputs": [
        {
          "output_type": "execute_result",
          "data": {
            "text/plain": [
              "<sqlite3.Cursor at 0x7f599c2cff10>"
            ]
          },
          "metadata": {
            "tags": []
          },
          "execution_count": 10
        }
      ]
    }
  ]
}