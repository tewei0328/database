{
  "nbformat": 4,
  "nbformat_minor": 0,
  "metadata": {
    "colab": {
      "name": "mta_sqlite3_product.ipynb",
      "provenance": [],
      "authorship_tag": "ABX9TyPVHB1hR0Z0UKfYhORu3oXc",
      "include_colab_link": true
    },
    "kernelspec": {
      "name": "python3",
      "display_name": "Python 3"
    },
    "language_info": {
      "name": "python"
    }
  },
  "cells": [
    {
      "cell_type": "markdown",
      "metadata": {
        "id": "view-in-github",
        "colab_type": "text"
      },
      "source": [
        "<a href=\"https://colab.research.google.com/github/tewei0328/database/blob/main/mta_sqlite3_product.ipynb\" target=\"_parent\"><img src=\"https://colab.research.google.com/assets/colab-badge.svg\" alt=\"Open In Colab\"/></a>"
      ]
    },
    {
      "cell_type": "code",
      "execution_count": 1,
      "metadata": {
        "colab": {
          "base_uri": "https://localhost:8080/"
        },
        "id": "KRTIevzQ8iW4",
        "outputId": "729cfdb0-974b-4c5f-9ccb-749a289eb722"
      },
      "outputs": [
        {
          "output_type": "execute_result",
          "data": {
            "text/plain": [
              "[(1234, 'Spoon', 33), (3781, 'Plate', 20), (4598, 'Cup', 51)]"
            ]
          },
          "metadata": {},
          "execution_count": 1
        }
      ],
      "source": [
        "import sqlite3\n",
        "\n",
        "conn=sqlite3.connect('aaa.db')\n",
        "\n",
        "c=conn.cursor()\n",
        "\n",
        "c.execute(\"\"\"CREATE TABLE Product(\n",
        "\n",
        "ID integer,\n",
        "\n",
        "Name text,\n",
        "\n",
        "Quantity integer\n",
        "\n",
        ")\"\"\")\n",
        "\n",
        "c.execute(\"INSERT INTO Product values(1234, 'Spoon', 33)\")\n",
        "\n",
        "c.execute(\"INSERT INTO Product values(2615, 'Fork', 17)\")\n",
        "\n",
        "c.execute(\"INSERT INTO Product values(3781, 'Plate', 20)\")\n",
        "\n",
        "c.execute(\"INSERT INTO Product values(4598, 'Cup', 51)\")\n",
        "\n",
        "c.execute(\"SELECT * FROM Product where Quantity>18\")\n",
        "\n",
        "c.fetchall()"
      ]
    },
    {
      "cell_type": "code",
      "source": [
        "c.execute(\"SELECT count(*) FROM Product where Quantity>18\")\n",
        "\n",
        "c.fetchall()"
      ],
      "metadata": {
        "colab": {
          "base_uri": "https://localhost:8080/"
        },
        "id": "0M3sn-9j8nET",
        "outputId": "8e90e1b0-10a0-46a4-959d-9dbb5fcff382"
      },
      "execution_count": 3,
      "outputs": [
        {
          "output_type": "execute_result",
          "data": {
            "text/plain": [
              "[(3,)]"
            ]
          },
          "metadata": {},
          "execution_count": 3
        }
      ]
    }
  ]
}