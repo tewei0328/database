{
  "nbformat": 4,
  "nbformat_minor": 0,
  "metadata": {
    "colab": {
      "name": "sqlite-mta-example.ipynb",
      "provenance": [],
      "authorship_tag": "ABX9TyMzPaJGruyzNNGM03oiKnOz",
      "include_colab_link": true
    },
    "kernelspec": {
      "name": "python3",
      "display_name": "Python 3"
    }
  },
  "cells": [
    {
      "cell_type": "markdown",
      "metadata": {
        "id": "view-in-github",
        "colab_type": "text"
      },
      "source": [
        "<a href=\"https://colab.research.google.com/github/tewei0328/database/blob/main/sqlite_mta_example.ipynb\" target=\"_parent\"><img src=\"https://colab.research.google.com/assets/colab-badge.svg\" alt=\"Open In Colab\"/></a>"
      ]
    },
    {
      "cell_type": "code",
      "metadata": {
        "id": "Hbd5qpz2LHG7",
        "outputId": "68978b8f-45e8-4a69-9cf5-f2f0c3edf018",
        "colab": {
          "base_uri": "https://localhost:8080/",
          "height": 35
        }
      },
      "source": [
        "import sqlite3\n",
        "\n",
        "conn=sqlite3.connect('aaa.db')\n",
        "\n",
        "c=conn.cursor()\n",
        "\n",
        "c.execute(\"\"\"CREATE TABLE Product(\n",
        "\n",
        "ID integer,\n",
        "\n",
        "Name text,\n",
        "\n",
        "Quantity integer\n",
        "\n",
        ")\"\"\")\n",
        "\n",
        "c.execute(\"INSERT INTO Product values(1234, 'Spoon', 33)\")\n",
        "\n",
        "c.execute(\"INSERT INTO Product values(2615, 'Fork', 17)\")\n",
        "\n",
        "c.execute(\"INSERT INTO Product values(3781, 'Plate', 20)\")\n",
        "\n",
        "c.execute(\"INSERT INTO Product values(4598, 'Cup', 51)\")\n",
        "\n",
        "c.execute(\"SELECT count(*) FROM Product where Quantity>18\")\n",
        "\n",
        "c.fetchall()"
      ],
      "execution_count": null,
      "outputs": [
        {
          "output_type": "execute_result",
          "data": {
            "text/plain": [
              "[(3,)]"
            ]
          },
          "metadata": {
            "tags": []
          },
          "execution_count": 4
        }
      ]
    }
  ]
}